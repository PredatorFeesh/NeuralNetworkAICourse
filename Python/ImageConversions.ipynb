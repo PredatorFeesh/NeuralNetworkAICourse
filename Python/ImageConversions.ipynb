{
 "cells": [
  {
   "cell_type": "code",
   "execution_count": 1,
   "metadata": {},
   "outputs": [],
   "source": [
    "import pickle\n",
    "from matplotlib import pyplot as plt\n",
    "from matplotlib import image as mpimg\n",
    "import numpy as np"
   ]
  },
  {
   "cell_type": "markdown",
   "metadata": {},
   "source": [
    "# Purpose\n",
    "This is mostly a playground for the images. Here, we see how to\n",
    "- Read the cipher data\n",
    "- Convert it into an image\n",
    "- Greyscale it\n",
    "- And possibly (soon) save the greyscaled image as a new pickle."
   ]
  },
  {
   "cell_type": "code",
   "execution_count": 2,
   "metadata": {},
   "outputs": [],
   "source": [
    "# From the CIFAR-10 Site\n",
    "def get_cifar(file):\n",
    "    import pickle\n",
    "    with open(file, 'rb') as fo:\n",
    "        dict = pickle.load(fo, encoding='bytes')\n",
    "    return dict"
   ]
  },
  {
   "cell_type": "code",
   "execution_count": 3,
   "metadata": {},
   "outputs": [
    {
     "data": {
      "text/plain": [
       "dict_keys([b'batch_label', b'labels', b'data', b'filenames'])"
      ]
     },
     "execution_count": 3,
     "metadata": {},
     "output_type": "execute_result"
    }
   ],
   "source": [
    "batch1 = get_cifar(\"data_batch_1\")\n",
    "batch1.keys()"
   ]
  },
  {
   "cell_type": "code",
   "execution_count": 4,
   "metadata": {},
   "outputs": [
    {
     "data": {
      "image/png": "[encoded data removed]",
      "text/plain": [
       "<Figure size 432x288 with 1 Axes>"
      ]
     },
     "metadata": {
      "needs_background": "light"
     },
     "output_type": "display_data"
    }
   ],
   "source": [
    "# Note: batch1[b'data'][0] is a single image. It's of len\n",
    "# 3072 because each image is 32x32. So, each R,G,B layer has\n",
    "# 1024 pixels of data\n",
    "channel_len = 1024\n",
    "width=32\n",
    "\n",
    "# We are looking at image specified here\n",
    "num_img = 20\n",
    "\n",
    "def get_image(image_vector, width, c_len):\n",
    "    \"\"\"\n",
    "    This expects a vector, which comes from the batch data value.\n",
    "    Also needs\n",
    "    @param width : the width of the image\n",
    "    @param c_len : the length of the channel\n",
    "    \"\"\"\n",
    "    color = lambda i: image_vector[i*c_len:(i+1)*c_len]\n",
    "    red = color(0).reshape((width,width))\n",
    "    green = color(1).reshape((width,width))\n",
    "    blue = color(2).reshape((width,width))\n",
    "    \n",
    "    img = np.dstack( (red, green, blue) )\n",
    "    return img\n",
    "    \n",
    "image_vec = batch1[b\"data\"][num_img]\n",
    "image = get_image(image_vec, width, channel_len)\n",
    "\n",
    "plt.imshow( image )\n",
    "plt.show()"
   ]
  },
  {
   "cell_type": "code",
   "execution_count": 5,
   "metadata": {},
   "outputs": [
    {
     "data": {
      "image/png": "[encoded data removed]",
      "text/plain": [
       "<Figure size 432x288 with 1 Axes>"
      ]
     },
     "metadata": {
      "needs_background": "light"
     },
     "output_type": "display_data"
    }
   ],
   "source": [
    "def get_grey_vector(i_vec, c_len):\n",
    "    \"\"\"\n",
    "    Takes an image vector from the batch data values,\n",
    "    and returns the vector of gray images.\n",
    "    @param c_len : channel length\n",
    "    \"\"\"\n",
    "    vec = []\n",
    "    for i in range(c_len):\n",
    "        r_i = i\n",
    "        b_i = c_len+i\n",
    "        g_i = c_len*2+i\n",
    "        avg = (float(i_vec[r_i]) + float(i_vec[b_i]) + float(i_vec[g_i]))/3 % 255\n",
    "        vec.append(float(avg))\n",
    "    return np.array(vec*3, dtype=int) # Doesn't work with float\n",
    "\n",
    "grey_vec = get_grey_vector(image_vec, channel_len)\n",
    "grey_image = get_image(grey_vec, width, channel_len)\n",
    "\n",
    "plt.imshow(grey_image)\n",
    "\n",
    "plt.show()"
   ]
  }
 ],
 "metadata": {
  "kernelspec": {
   "display_name": "Python 3",
   "language": "python",
   "name": "python3"
  },
  "language_info": {
   "codemirror_mode": {
    "name": "ipython",
    "version": 3
   },
   "file_extension": ".py",
   "mimetype": "text/x-python",
   "name": "python",
   "nbconvert_exporter": "python",
   "pygments_lexer": "ipython3",
   "version": "3.7.5"
  }
 },
 "nbformat": 4,
 "nbformat_minor": 2
}
